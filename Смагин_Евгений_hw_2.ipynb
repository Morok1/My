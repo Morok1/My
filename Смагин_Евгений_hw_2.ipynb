{
 "cells": [
  {
   "cell_type": "markdown",
   "metadata": {},
   "source": [
    "# Базовая часть"
   ]
  },
  {
   "cell_type": "markdown",
   "metadata": {},
   "source": [
    "Рассмотрим задание 2 из лекции. При анализе отзывов на работу техподдержки вы считали массив из отзывов (для простоты отзыва приведено всего два, но могло быть и больше):"
   ]
  },
  {
   "cell_type": "code",
   "execution_count": 4,
   "metadata": {
    "collapsed": true
   },
   "outputs": [],
   "source": [
    "reviews = [\"\"\"Телефон абонента: +7 916 000 00 01\n",
    "Время: 10:34\n",
    "Дата: 20.05.2017\n",
    "Оценка: 1\n",
    "Длительность разговора (мин.): 0:32\n",
    "Комментарий: Общение с сотрудником вашей техподдержки мне не понравилось. Раньше всегда отвечала девушка с приятным голосом, а сегодня какой-то мужчина. Совсем никуда не годится, примите меры!!!\"\"\",\n",
    "\"\"\"Телефон абонента: +7 916 000 00 02\n",
    "Время: 9:20\n",
    "Дата: 21.05.2017\n",
    "Оценка: 5\n",
    "Длительность разговора (мин.): 25:07\n",
    "Комментарий: С моей проблемой мне помогли, большое спасибо!\"\"\"]"
   ]
  },
  {
   "cell_type": "markdown",
   "metadata": {},
   "source": [
    "Сформируйте на основе этого массива словарь my_base, в котором по ключу в виде строки с телефоном абонента будет храниться другой словарь. Внутренний словарь по ключам в виде названий полей отзыва должен хранить значение полей (в виде строк). Например, код ниже должен выдать True:"
   ]
  },
  {
   "cell_type": "code",
   "execution_count": null,
   "metadata": {
    "collapsed": true
   },
   "outputs": [],
   "source": [
    "my_base['+7 916 000 00 01']['Дата'] == '20.05.2017'"
   ]
  },
  {
   "cell_type": "markdown",
   "metadata": {},
   "source": [
    "\n",
    "Обратите внимание, что вам могут немного мешать пробелы после знаков \":\""
   ]
  },
  {
   "cell_type": "code",
   "execution_count": 13,
   "metadata": {},
   "outputs": [
    {
     "name": "stdout",
     "output_type": "stream",
     "text": [
      "['\\xd0\\xa2\\xd0\\xb5\\xd0\\xbb\\xd0\\xb5\\xd1\\x84\\xd0\\xbe\\xd0\\xbd \\xd0\\xb0\\xd0\\xb1\\xd0\\xbe\\xd0\\xbd\\xd0\\xb5\\xd0\\xbd\\xd1\\x82\\xd0\\xb0: +7 916 000 00 01\\n\\xd0\\x92\\xd1\\x80\\xd0\\xb5\\xd0\\xbc\\xd1\\x8f: 10:34\\n\\xd0\\x94\\xd0\\xb0\\xd1\\x82\\xd0\\xb0: 20.05.2017\\n\\xd0\\x9e\\xd1\\x86\\xd0\\xb5\\xd0\\xbd\\xd0\\xba\\xd0\\xb0: 1\\n\\xd0\\x94\\xd0\\xbb\\xd0\\xb8\\xd1\\x82\\xd0\\xb5\\xd0\\xbb\\xd1\\x8c\\xd0\\xbd\\xd0\\xbe\\xd1\\x81\\xd1\\x82\\xd1\\x8c \\xd1\\x80\\xd0\\xb0\\xd0\\xb7\\xd0\\xb3\\xd0\\xbe\\xd0\\xb2\\xd0\\xbe\\xd1\\x80\\xd0\\xb0 (\\xd0\\xbc\\xd0\\xb8\\xd0\\xbd.): 0:32\\n\\xd0\\x9a\\xd0\\xbe\\xd0\\xbc\\xd0\\xbc\\xd0\\xb5\\xd0\\xbd\\xd1\\x82\\xd0\\xb0\\xd1\\x80\\xd0\\xb8\\xd0\\xb9: \\xd0\\x9e\\xd0\\xb1\\xd1\\x89\\xd0\\xb5\\xd0\\xbd\\xd0\\xb8\\xd0\\xb5 \\xd1\\x81 \\xd1\\x81\\xd0\\xbe\\xd1\\x82\\xd1\\x80\\xd1\\x83\\xd0\\xb4\\xd0\\xbd\\xd0\\xb8\\xd0\\xba\\xd0\\xbe\\xd0\\xbc \\xd0\\xb2\\xd0\\xb0\\xd1\\x88\\xd0\\xb5\\xd0\\xb9 \\xd1\\x82\\xd0\\xb5\\xd1\\x85\\xd0\\xbf\\xd0\\xbe\\xd0\\xb4\\xd0\\xb4\\xd0\\xb5\\xd1\\x80\\xd0\\xb6\\xd0\\xba\\xd0\\xb8 \\xd0\\xbc\\xd0\\xbd\\xd0\\xb5 \\xd0\\xbd\\xd0\\xb5 \\xd0\\xbf\\xd0\\xbe\\xd0\\xbd\\xd1\\x80\\xd0\\xb0\\xd0\\xb2\\xd0\\xb8\\xd0\\xbb\\xd0\\xbe\\xd1\\x81\\xd1\\x8c. \\xd0\\xa0\\xd0\\xb0\\xd0\\xbd\\xd1\\x8c\\xd1\\x88\\xd0\\xb5 \\xd0\\xb2\\xd1\\x81\\xd0\\xb5\\xd0\\xb3\\xd0\\xb4\\xd0\\xb0 \\xd0\\xbe\\xd1\\x82\\xd0\\xb2\\xd0\\xb5\\xd1\\x87\\xd0\\xb0\\xd0\\xbb\\xd0\\xb0 \\xd0\\xb4\\xd0\\xb5\\xd0\\xb2\\xd1\\x83\\xd1\\x88\\xd0\\xba\\xd0\\xb0 \\xd1\\x81 \\xd0\\xbf\\xd1\\x80\\xd0\\xb8\\xd1\\x8f\\xd1\\x82\\xd0\\xbd\\xd1\\x8b\\xd0\\xbc \\xd0\\xb3\\xd0\\xbe\\xd0\\xbb\\xd0\\xbe\\xd1\\x81\\xd0\\xbe\\xd0\\xbc', ' \\xd0\\xb0 \\xd1\\x81\\xd0\\xb5\\xd0\\xb3\\xd0\\xbe\\xd0\\xb4\\xd0\\xbd\\xd1\\x8f \\xd0\\xba\\xd0\\xb0\\xd0\\xba\\xd0\\xbe\\xd0\\xb9-\\xd1\\x82\\xd0\\xbe \\xd0\\xbc\\xd1\\x83\\xd0\\xb6\\xd1\\x87\\xd0\\xb8\\xd0\\xbd\\xd0\\xb0. \\xd0\\xa1\\xd0\\xbe\\xd0\\xb2\\xd1\\x81\\xd0\\xb5\\xd0\\xbc \\xd0\\xbd\\xd0\\xb8\\xd0\\xba\\xd1\\x83\\xd0\\xb4\\xd0\\xb0 \\xd0\\xbd\\xd0\\xb5 \\xd0\\xb3\\xd0\\xbe\\xd0\\xb4\\xd0\\xb8\\xd1\\x82\\xd1\\x81\\xd1\\x8f', ' \\xd0\\xbf\\xd1\\x80\\xd0\\xb8\\xd0\\xbc\\xd0\\xb8\\xd1\\x82\\xd0\\xb5 \\xd0\\xbc\\xd0\\xb5\\xd1\\x80\\xd1\\x8b!!!']\n",
      "['\\xd0\\xa2\\xd0\\xb5\\xd0\\xbb\\xd0\\xb5\\xd1\\x84\\xd0\\xbe\\xd0\\xbd \\xd0\\xb0\\xd0\\xb1\\xd0\\xbe\\xd0\\xbd\\xd0\\xb5\\xd0\\xbd\\xd1\\x82\\xd0\\xb0: +7 916 000 00 02\\n\\xd0\\x92\\xd1\\x80\\xd0\\xb5\\xd0\\xbc\\xd1\\x8f: 9:20\\n\\xd0\\x94\\xd0\\xb0\\xd1\\x82\\xd0\\xb0: 21.05.2017\\n\\xd0\\x9e\\xd1\\x86\\xd0\\xb5\\xd0\\xbd\\xd0\\xba\\xd0\\xb0: 5\\n\\xd0\\x94\\xd0\\xbb\\xd0\\xb8\\xd1\\x82\\xd0\\xb5\\xd0\\xbb\\xd1\\x8c\\xd0\\xbd\\xd0\\xbe\\xd1\\x81\\xd1\\x82\\xd1\\x8c \\xd1\\x80\\xd0\\xb0\\xd0\\xb7\\xd0\\xb3\\xd0\\xbe\\xd0\\xb2\\xd0\\xbe\\xd1\\x80\\xd0\\xb0 (\\xd0\\xbc\\xd0\\xb8\\xd0\\xbd.): 25:07\\n\\xd0\\x9a\\xd0\\xbe\\xd0\\xbc\\xd0\\xbc\\xd0\\xb5\\xd0\\xbd\\xd1\\x82\\xd0\\xb0\\xd1\\x80\\xd0\\xb8\\xd0\\xb9: \\xd0\\xa1 \\xd0\\xbc\\xd0\\xbe\\xd0\\xb5\\xd0\\xb9 \\xd0\\xbf\\xd1\\x80\\xd0\\xbe\\xd0\\xb1\\xd0\\xbb\\xd0\\xb5\\xd0\\xbc\\xd0\\xbe\\xd0\\xb9 \\xd0\\xbc\\xd0\\xbd\\xd0\\xb5 \\xd0\\xbf\\xd0\\xbe\\xd0\\xbc\\xd0\\xbe\\xd0\\xb3\\xd0\\xbb\\xd0\\xb8', ' \\xd0\\xb1\\xd0\\xbe\\xd0\\xbb\\xd1\\x8c\\xd1\\x88\\xd0\\xbe\\xd0\\xb5 \\xd1\\x81\\xd0\\xbf\\xd0\\xb0\\xd1\\x81\\xd0\\xb8\\xd0\\xb1\\xd0\\xbe!']\n"
     ]
    }
   ],
   "source": [
    "for x in reviews:\n",
    "    print(\\ux.split(\",\"))"
   ]
  },
  {
   "cell_type": "code",
   "execution_count": 14,
   "metadata": {},
   "outputs": [],
   "source": [
    "my_base = {}\n",
    "for review in reviews:\n",
    "    review_dict = {}\n",
    "    for line in review.split('\\n'):\n",
    "        tokens = line.split(':')\n",
    "        name = tokens[0]\n",
    "        remained_part = ':'.join(tokens[1:]).strip()\n",
    "        review_dict[name] = remained_part\n",
    "    my_base[review_dict['Телефон абонента']] = review_dict"
   ]
  },
  {
   "cell_type": "code",
   "execution_count": 15,
   "metadata": {},
   "outputs": [
    {
     "data": {
      "text/plain": [
       "{'+7 916 000 00 01': {'\\xd0\\x92\\xd1\\x80\\xd0\\xb5\\xd0\\xbc\\xd1\\x8f': '10:34',\n",
       "  '\\xd0\\x94\\xd0\\xb0\\xd1\\x82\\xd0\\xb0': '20.05.2017',\n",
       "  '\\xd0\\x94\\xd0\\xbb\\xd0\\xb8\\xd1\\x82\\xd0\\xb5\\xd0\\xbb\\xd1\\x8c\\xd0\\xbd\\xd0\\xbe\\xd1\\x81\\xd1\\x82\\xd1\\x8c \\xd1\\x80\\xd0\\xb0\\xd0\\xb7\\xd0\\xb3\\xd0\\xbe\\xd0\\xb2\\xd0\\xbe\\xd1\\x80\\xd0\\xb0 (\\xd0\\xbc\\xd0\\xb8\\xd0\\xbd.)': '0:32',\n",
       "  '\\xd0\\x9a\\xd0\\xbe\\xd0\\xbc\\xd0\\xbc\\xd0\\xb5\\xd0\\xbd\\xd1\\x82\\xd0\\xb0\\xd1\\x80\\xd0\\xb8\\xd0\\xb9': '\\xd0\\x9e\\xd0\\xb1\\xd1\\x89\\xd0\\xb5\\xd0\\xbd\\xd0\\xb8\\xd0\\xb5 \\xd1\\x81 \\xd1\\x81\\xd0\\xbe\\xd1\\x82\\xd1\\x80\\xd1\\x83\\xd0\\xb4\\xd0\\xbd\\xd0\\xb8\\xd0\\xba\\xd0\\xbe\\xd0\\xbc \\xd0\\xb2\\xd0\\xb0\\xd1\\x88\\xd0\\xb5\\xd0\\xb9 \\xd1\\x82\\xd0\\xb5\\xd1\\x85\\xd0\\xbf\\xd0\\xbe\\xd0\\xb4\\xd0\\xb4\\xd0\\xb5\\xd1\\x80\\xd0\\xb6\\xd0\\xba\\xd0\\xb8 \\xd0\\xbc\\xd0\\xbd\\xd0\\xb5 \\xd0\\xbd\\xd0\\xb5 \\xd0\\xbf\\xd0\\xbe\\xd0\\xbd\\xd1\\x80\\xd0\\xb0\\xd0\\xb2\\xd0\\xb8\\xd0\\xbb\\xd0\\xbe\\xd1\\x81\\xd1\\x8c. \\xd0\\xa0\\xd0\\xb0\\xd0\\xbd\\xd1\\x8c\\xd1\\x88\\xd0\\xb5 \\xd0\\xb2\\xd1\\x81\\xd0\\xb5\\xd0\\xb3\\xd0\\xb4\\xd0\\xb0 \\xd0\\xbe\\xd1\\x82\\xd0\\xb2\\xd0\\xb5\\xd1\\x87\\xd0\\xb0\\xd0\\xbb\\xd0\\xb0 \\xd0\\xb4\\xd0\\xb5\\xd0\\xb2\\xd1\\x83\\xd1\\x88\\xd0\\xba\\xd0\\xb0 \\xd1\\x81 \\xd0\\xbf\\xd1\\x80\\xd0\\xb8\\xd1\\x8f\\xd1\\x82\\xd0\\xbd\\xd1\\x8b\\xd0\\xbc \\xd0\\xb3\\xd0\\xbe\\xd0\\xbb\\xd0\\xbe\\xd1\\x81\\xd0\\xbe\\xd0\\xbc, \\xd0\\xb0 \\xd1\\x81\\xd0\\xb5\\xd0\\xb3\\xd0\\xbe\\xd0\\xb4\\xd0\\xbd\\xd1\\x8f \\xd0\\xba\\xd0\\xb0\\xd0\\xba\\xd0\\xbe\\xd0\\xb9-\\xd1\\x82\\xd0\\xbe \\xd0\\xbc\\xd1\\x83\\xd0\\xb6\\xd1\\x87\\xd0\\xb8\\xd0\\xbd\\xd0\\xb0. \\xd0\\xa1\\xd0\\xbe\\xd0\\xb2\\xd1\\x81\\xd0\\xb5\\xd0\\xbc \\xd0\\xbd\\xd0\\xb8\\xd0\\xba\\xd1\\x83\\xd0\\xb4\\xd0\\xb0 \\xd0\\xbd\\xd0\\xb5 \\xd0\\xb3\\xd0\\xbe\\xd0\\xb4\\xd0\\xb8\\xd1\\x82\\xd1\\x81\\xd1\\x8f, \\xd0\\xbf\\xd1\\x80\\xd0\\xb8\\xd0\\xbc\\xd0\\xb8\\xd1\\x82\\xd0\\xb5 \\xd0\\xbc\\xd0\\xb5\\xd1\\x80\\xd1\\x8b!!!',\n",
       "  '\\xd0\\x9e\\xd1\\x86\\xd0\\xb5\\xd0\\xbd\\xd0\\xba\\xd0\\xb0': '1',\n",
       "  '\\xd0\\xa2\\xd0\\xb5\\xd0\\xbb\\xd0\\xb5\\xd1\\x84\\xd0\\xbe\\xd0\\xbd \\xd0\\xb0\\xd0\\xb1\\xd0\\xbe\\xd0\\xbd\\xd0\\xb5\\xd0\\xbd\\xd1\\x82\\xd0\\xb0': '+7 916 000 00 01'},\n",
       " '+7 916 000 00 02': {'\\xd0\\x92\\xd1\\x80\\xd0\\xb5\\xd0\\xbc\\xd1\\x8f': '9:20',\n",
       "  '\\xd0\\x94\\xd0\\xb0\\xd1\\x82\\xd0\\xb0': '21.05.2017',\n",
       "  '\\xd0\\x94\\xd0\\xbb\\xd0\\xb8\\xd1\\x82\\xd0\\xb5\\xd0\\xbb\\xd1\\x8c\\xd0\\xbd\\xd0\\xbe\\xd1\\x81\\xd1\\x82\\xd1\\x8c \\xd1\\x80\\xd0\\xb0\\xd0\\xb7\\xd0\\xb3\\xd0\\xbe\\xd0\\xb2\\xd0\\xbe\\xd1\\x80\\xd0\\xb0 (\\xd0\\xbc\\xd0\\xb8\\xd0\\xbd.)': '25:07',\n",
       "  '\\xd0\\x9a\\xd0\\xbe\\xd0\\xbc\\xd0\\xbc\\xd0\\xb5\\xd0\\xbd\\xd1\\x82\\xd0\\xb0\\xd1\\x80\\xd0\\xb8\\xd0\\xb9': '\\xd0\\xa1 \\xd0\\xbc\\xd0\\xbe\\xd0\\xb5\\xd0\\xb9 \\xd0\\xbf\\xd1\\x80\\xd0\\xbe\\xd0\\xb1\\xd0\\xbb\\xd0\\xb5\\xd0\\xbc\\xd0\\xbe\\xd0\\xb9 \\xd0\\xbc\\xd0\\xbd\\xd0\\xb5 \\xd0\\xbf\\xd0\\xbe\\xd0\\xbc\\xd0\\xbe\\xd0\\xb3\\xd0\\xbb\\xd0\\xb8, \\xd0\\xb1\\xd0\\xbe\\xd0\\xbb\\xd1\\x8c\\xd1\\x88\\xd0\\xbe\\xd0\\xb5 \\xd1\\x81\\xd0\\xbf\\xd0\\xb0\\xd1\\x81\\xd0\\xb8\\xd0\\xb1\\xd0\\xbe!',\n",
       "  '\\xd0\\x9e\\xd1\\x86\\xd0\\xb5\\xd0\\xbd\\xd0\\xba\\xd0\\xb0': '5',\n",
       "  '\\xd0\\xa2\\xd0\\xb5\\xd0\\xbb\\xd0\\xb5\\xd1\\x84\\xd0\\xbe\\xd0\\xbd \\xd0\\xb0\\xd0\\xb1\\xd0\\xbe\\xd0\\xbd\\xd0\\xb5\\xd0\\xbd\\xd1\\x82\\xd0\\xb0': '+7 916 000 00 02'}}"
      ]
     },
     "execution_count": 15,
     "metadata": {},
     "output_type": "execute_result"
    }
   ],
   "source": [
    "my_base"
   ]
  },
  {
   "cell_type": "code",
   "execution_count": 16,
   "metadata": {},
   "outputs": [
    {
     "data": {
      "text/plain": [
       "True"
      ]
     },
     "execution_count": 16,
     "metadata": {},
     "output_type": "execute_result"
    }
   ],
   "source": [
    "my_base['+7 916 000 00 01']['Дата'] == '20.05.2017'"
   ]
  },
  {
   "cell_type": "code",
   "execution_count": 17,
   "metadata": {
    "collapsed": true
   },
   "outputs": [],
   "source": [
    "\n",
    "import datetime\n",
    "\n",
    "my_base = {}\n",
    "for review in reviews:\n",
    "\n",
    "    review_dict = {}\n",
    "    for line in review.split('\\n'):\n",
    "        tokens = line.split(':')\n",
    "        name = tokens[0]\n",
    "        remained_part = ':'.join(tokens[1:]).strip()\n",
    "        review_dict[name] = remained_part\n",
    "        \n",
    "    duration = review_dict['Длительность разговора (мин.)'].split(':')\n",
    "    new_review_dict = {\n",
    "        'phone': review_dict['Телефон абонента'],\n",
    "        'datetime': datetime.datetime.strptime(review_dict['Дата'] + ' ' + review_dict['Время'], \n",
    "                                               '%d.%m.%Y %M:%S'),\n",
    "        'rate': int(review_dict['Оценка']),\n",
    "        'duration': int(duration[0]) * 60 + int(duration[1]) ,\n",
    "        'comments': review_dict['Комментарий']\n",
    "    }\n",
    "    my_base[new_review_dict['phone']] = new_review_dict"
   ]
  },
  {
   "cell_type": "code",
   "execution_count": 18,
   "metadata": {},
   "outputs": [
    {
     "name": "stdout",
     "output_type": "stream",
     "text": [
      "+7 916 000 00 01\n"
     ]
    }
   ],
   "source": [
    "print my_base['+7 916 000 00 01']['phone']"
   ]
  },
  {
   "cell_type": "code",
   "execution_count": 19,
   "metadata": {},
   "outputs": [
    {
     "name": "stdout",
     "output_type": "stream",
     "text": [
      "2017-05-20 00:10:34\n"
     ]
    }
   ],
   "source": [
    "\n",
    "print my_base['+7 916 000 00 01']['datetime']"
   ]
  },
  {
   "cell_type": "code",
   "execution_count": 20,
   "metadata": {},
   "outputs": [
    {
     "name": "stdout",
     "output_type": "stream",
     "text": [
      "True\n"
     ]
    }
   ],
   "source": [
    "print my_base['+7 916 000 00 01']['rate'] == 1"
   ]
  },
  {
   "cell_type": "code",
   "execution_count": 21,
   "metadata": {},
   "outputs": [
    {
     "name": "stdout",
     "output_type": "stream",
     "text": [
      "True\n"
     ]
    }
   ],
   "source": [
    "print my_base['+7 916 000 00 01']['duration'] == 32"
   ]
  },
  {
   "cell_type": "code",
   "execution_count": 22,
   "metadata": {},
   "outputs": [
    {
     "name": "stdout",
     "output_type": "stream",
     "text": [
      "Общение с сотрудником вашей техподдержки мне не понравилось. Раньше всегда отвечала девушка с приятным голосом, а сегодня какой-то мужчина. Совсем никуда не годится, примите меры!!!\n"
     ]
    }
   ],
   "source": [
    "print my_base['+7 916 000 00 01']['comments']"
   ]
  },
  {
   "cell_type": "code",
   "execution_count": null,
   "metadata": {
    "collapsed": true
   },
   "outputs": [],
   "source": []
  }
 ],
 "metadata": {
  "kernelspec": {
   "display_name": "Python 2",
   "language": "python",
   "name": "python2"
  },
  "language_info": {
   "codemirror_mode": {
    "name": "ipython",
    "version": 2
   },
   "file_extension": ".py",
   "mimetype": "text/x-python",
   "name": "python",
   "nbconvert_exporter": "python",
   "pygments_lexer": "ipython2",
   "version": "2.7.14"
  }
 },
 "nbformat": 4,
 "nbformat_minor": 2
}
