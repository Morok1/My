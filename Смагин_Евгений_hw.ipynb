{
 "cells": [
  {
   "cell_type": "markdown",
   "metadata": {},
   "source": [
    "## Задание по numpy\n"
   ]
  },
  {
   "cell_type": "markdown",
   "metadata": {},
   "source": [
    "1. Напишите свой аналог np.linspace с использованием цикла и с использованием list comprehension. Сравните все три варианта по производительности\n",
    "1. Сравните по производительности основные операции с массивами (array) numpy и с list"
   ]
  },
  {
   "cell_type": "code",
   "execution_count": 98,
   "metadata": {},
   "outputs": [],
   "source": [
    "def linspace_analogy(start, end, number):\n",
    "    interval=(end-start)/number\n",
    "    quantity = 0\n",
    "    var = start\n",
    "    arr = []\n",
    "    while(quantity!=number+1):\n",
    "        arr.append(var)\n",
    "        var+=interval\n",
    "        quantity+=1\n",
    "    return arr\n",
    "def linspace_analogy_comp(start, end, number):\n",
    "    return [start + i*(end-start)/number for i in range(int(number)+1)]\n",
    "    \n",
    "    "
   ]
  },
  {
   "cell_type": "code",
   "execution_count": 99,
   "metadata": {},
   "outputs": [
    {
     "name": "stdout",
     "output_type": "stream",
     "text": [
      "The slowest run took 9.14 times longer than the fastest. This could mean that an intermediate result is being cached.\n",
      "100000 loops, best of 3: 2.06 µs per loop\n",
      "The slowest run took 4.06 times longer than the fastest. This could mean that an intermediate result is being cached.\n",
      "100000 loops, best of 3: 2 µs per loop\n",
      "The slowest run took 4.82 times longer than the fastest. This could mean that an intermediate result is being cached.\n",
      "100000 loops, best of 3: 16.2 µs per loop\n"
     ]
    }
   ],
   "source": [
    "%timeit (linspace_analogy(0.0, 1., 4.))\n",
    "%timeit (linspace_analogy_comp(0.0, 1., 4.))\n",
    "%timeit np.linspace(0., 1., 4)"
   ]
  },
  {
   "cell_type": "code",
   "execution_count": 100,
   "metadata": {
    "collapsed": true
   },
   "outputs": [],
   "source": [
    "a = [1,2,3,4,5,232,0,23,23,4]\n",
    "b = np.array(a)\n"
   ]
  },
  {
   "cell_type": "code",
   "execution_count": 104,
   "metadata": {},
   "outputs": [
    {
     "name": "stdout",
     "output_type": "stream",
     "text": [
      "The slowest run took 11.67 times longer than the fastest. This could mean that an intermediate result is being cached.\n",
      "1000000 loops, best of 3: 429 ns per loop\n",
      "The slowest run took 27.79 times longer than the fastest. This could mean that an intermediate result is being cached.\n",
      "1000000 loops, best of 3: 479 ns per loop\n"
     ]
    }
   ],
   "source": [
    "%timeit a.sort()\n",
    "%timeit b.sort()"
   ]
  },
  {
   "cell_type": "code",
   "execution_count": 107,
   "metadata": {},
   "outputs": [
    {
     "name": "stdout",
     "output_type": "stream",
     "text": [
      "The slowest run took 30.06 times longer than the fastest. This could mean that an intermediate result is being cached.\n",
      "1000000 loops, best of 3: 1.53 µs per loop\n",
      "100000 loops, best of 3: 1.54 µs per loop\n"
     ]
    }
   ],
   "source": [
    "%timeit b**3\n",
    "%timeit [i**3 for i in a]"
   ]
  },
  {
   "cell_type": "code",
   "execution_count": 108,
   "metadata": {},
   "outputs": [
    {
     "name": "stdout",
     "output_type": "stream",
     "text": [
      "The slowest run took 33.82 times longer than the fastest. This could mean that an intermediate result is being cached.\n",
      "10000000 loops, best of 3: 91.6 ns per loop\n",
      "The slowest run took 11.34 times longer than the fastest. This could mean that an intermediate result is being cached.\n",
      "100000 loops, best of 3: 2.38 µs per loop\n"
     ]
    }
   ],
   "source": [
    "%timeit a[i>3]\n",
    "%timeit b[i>3]"
   ]
  },
  {
   "cell_type": "code",
   "execution_count": 109,
   "metadata": {
    "collapsed": true
   },
   "outputs": [],
   "source": [
    "def max(a):\n",
    "    maxV = -1000 \n",
    "    for i in a:\n",
    "        if i> maxV:\n",
    "            maxV = i\n",
    "    return maxV \n",
    "\n",
    "def min(a):\n",
    "    minV = 1000 \n",
    "    for i in a:\n",
    "        if i < minV:\n",
    "            minV = i\n",
    "    return minV        "
   ]
  },
  {
   "cell_type": "code",
   "execution_count": 111,
   "metadata": {},
   "outputs": [
    {
     "name": "stdout",
     "output_type": "stream",
     "text": [
      "The slowest run took 31.13 times longer than the fastest. This could mean that an intermediate result is being cached.\n",
      "10000000 loops, best of 3: 99.6 ns per loop\n",
      "The slowest run took 6.65 times longer than the fastest. This could mean that an intermediate result is being cached.\n",
      "1000000 loops, best of 3: 800 ns per loop\n"
     ]
    }
   ],
   "source": [
    "%timeit b.argmax\n",
    "%timeit max(a)"
   ]
  },
  {
   "cell_type": "code",
   "execution_count": 112,
   "metadata": {},
   "outputs": [
    {
     "name": "stdout",
     "output_type": "stream",
     "text": [
      "The slowest run took 41.80 times longer than the fastest. This could mean that an intermediate result is being cached.\n",
      "10000000 loops, best of 3: 97 ns per loop\n",
      "1000000 loops, best of 3: 511 ns per loop\n"
     ]
    }
   ],
   "source": [
    "%timeit b.argmin\n",
    "%timeit min(a)"
   ]
  },
  {
   "cell_type": "markdown",
   "metadata": {},
   "source": [
    "## Задание по Scipy"
   ]
  },
  {
   "cell_type": "markdown",
   "metadata": {},
   "source": [
    "Попробуйте поменять метод оптимизации в примере решения оптимизационной задачи выше, и подобрать метод с наименьшим количеством вычислений функции. Начальное приближение оставьте тем же."
   ]
  },
  {
   "cell_type": "code",
   "execution_count": 135,
   "metadata": {
    "collapsed": true
   },
   "outputs": [],
   "source": [
    "from scipy  import optimize"
   ]
  },
  {
   "cell_type": "code",
   "execution_count": 117,
   "metadata": {},
   "outputs": [
    {
     "data": {
      "text/plain": [
       "4.91"
      ]
     },
     "execution_count": 117,
     "metadata": {},
     "output_type": "execute_result"
    }
   ],
   "source": [
    "def f(x):\n",
    "    return (x[0]+1)**2 + (x[1]-0.3) + 1\n",
    "f([0.1, 3])"
   ]
  },
  {
   "cell_type": "code",
   "execution_count": 146,
   "metadata": {},
   "outputs": [
    {
     "name": "stdout",
     "output_type": "stream",
     "text": [
      "      fun: -177919992.33440137\n",
      " hess_inv: array([[  0.49536869,  -0.47515399],\n",
      "       [ -0.47515399,  21.38636381]])\n",
      "      jac: array([ 0.,  0.])\n",
      "  message: 'Optimization terminated successfully.'\n",
      "     nfev: 208\n",
      "      nit: 50\n",
      "     njev: 52\n",
      "   status: 0\n",
      "  success: True\n",
      "        x: array([ -9.54266108e-01,  -1.77919993e+08])\n"
     ]
    }
   ],
   "source": [
    "x_min_BFGS = optimize.minimize(f, [-5, 5], method=\"BFGS\")\n",
    "print(x_min_BFGS)\n"
   ]
  },
  {
   "cell_type": "markdown",
   "metadata": {},
   "source": [
    "Минимальное количество итераций"
   ]
  },
  {
   "cell_type": "code",
   "execution_count": 144,
   "metadata": {},
   "outputs": [
    {
     "name": "stdout",
     "output_type": "stream",
     "text": [
      "     fun: -363507684.9956448\n",
      "     jac: array([ 0.,  0.])\n",
      " message: 'Optimization terminated successfully.'\n",
      "    nfev: 80\n",
      "     nit: 3\n",
      "    njev: 20\n",
      "  status: 0\n",
      " success: True\n",
      "       x: array([ -1.30584265e+00,  -3.63507686e+08])\n"
     ]
    }
   ],
   "source": [
    "x_min_CG = optimize.minimize(f, [-5, 5], method=\"CG\")\n",
    "print(x_min_CG)"
   ]
  },
  {
   "cell_type": "code",
   "execution_count": 149,
   "metadata": {},
   "outputs": [
    {
     "name": "stdout",
     "output_type": "stream",
     "text": [
      "     fun: -1085094.8000212568\n",
      "     jac: array([-0.04656613,  1.00117177])\n",
      " message: 'Max. number of function evaluations reached'\n",
      "    nfev: 100\n",
      "     nit: 25\n",
      "  status: 3\n",
      " success: False\n",
      "       x: array([ -1.02596604e+00,  -1.08509550e+06])\n"
     ]
    }
   ],
   "source": [
    "x_min_TNC = optimize.minimize(f, [-5, 5], method=\"TNC\")\n",
    "print(x_min_TNC) "
   ]
  },
  {
   "cell_type": "code",
   "execution_count": 150,
   "metadata": {
    "scrolled": true
   },
   "outputs": [
    {
     "name": "stdout",
     "output_type": "stream",
     "text": [
      "      fun: -177919992.33440137\n",
      " hess_inv: array([[  0.49536869,  -0.47515399],\n",
      "       [ -0.47515399,  21.38636381]])\n",
      "      jac: array([ 0.,  0.])\n",
      "  message: 'Optimization terminated successfully.'\n",
      "     nfev: 208\n",
      "      nit: 50\n",
      "     njev: 52\n",
      "   status: 0\n",
      "  success: True\n",
      "        x: array([ -9.54266108e-01,  -1.77919993e+08])\n"
     ]
    }
   ],
   "source": [
    "x_min = optimize.minimize(f, [-5,5])\n",
    "print(x_min)"
   ]
  },
  {
   "cell_type": "code",
   "execution_count": null,
   "metadata": {
    "collapsed": true
   },
   "outputs": [],
   "source": []
  },
  {
   "cell_type": "markdown",
   "metadata": {},
   "source": [
    "# Matplotlib\n",
    "\n"
   ]
  },
  {
   "cell_type": "markdown",
   "metadata": {},
   "source": [
    "1. Добавьте подписи к осям и легенду к примеру выше (см. документацию)\n",
    "1. Постройте график с 5 разными элементарными функциями и сделайте легенду к графику в TeXe\n",
    "1. Сохраните рисунок в файл строчкой кода на Python"
   ]
  },
  {
   "cell_type": "code",
   "execution_count": 153,
   "metadata": {
    "collapsed": true
   },
   "outputs": [],
   "source": [
    "from matplotlib import pylab as plt\n",
    "%matplotlib inline"
   ]
  },
  {
   "cell_type": "code",
   "execution_count": 167,
   "metadata": {},
   "outputs": [
    {
     "data": {
      "image/png": "[encoded data removed]",
      "text/plain": [
       "<matplotlib.figure.Figure at 0x7fe3ba18a3d0>"
      ]
     },
     "metadata": {},
     "output_type": "display_data"
    }
   ],
   "source": [
    "a1 = [x**0 for x in range(10)]\n",
    "a2 = [x**1 for x in range(10)]\n",
    "a3 = [x**2 for x in range(10)]\n",
    "a4 = [x**3 for x in range(10)]\n",
    "a5 = [x**4 for x in range(10)]\n",
    "plt.plot(range(10), a1, label=\"Polynom with degree 0\")\n",
    "plt.plot(range(10), a2, label=\"Polynom with degree 1\")\n",
    "plt.plot(range(10), a3, label=\"Polynom with degree 2\")\n",
    "plt.plot(range(10), a4, label=\"Polynom with degree 3\")\n",
    "plt.plot(range(10), a5, label=\"Polynom with degree 4\")\n",
    "plt.legend()\n",
    "plt.xlabel(\"x\")\n",
    "plt.ylabel(\"y\")\n",
    "plt.title(r'Grafic $y=x^{degree}$')\n",
    "plt.show()"
   ]
  },
  {
   "cell_type": "markdown",
   "metadata": {},
   "source": [
    "## Задание на Numpy+Matplotlib"
   ]
  },
  {
   "cell_type": "markdown",
   "metadata": {},
   "source": [
    "1. Сгенерируйте массив из 500 точек на плоскости с координатами $(x, y)$, такими, что $x$ меняется от -1 до 1, а $y = 2x - 1 + \\varepsilon$, где $\\varepsilon \\sim \\mathcal{N}(0, 0.1)$\n",
    "2. Сгенерируйте массив из 100 точек на плоскости с координатами $(x, y)$, такими, что $x$ меняется от -1 до 1, а $y = 1 + \\varepsilon$, где $\\varepsilon \\sim \\mathcal{N}(0, 0.1)$\n",
    "3. Изобразите первый и второй массив точек на плоскости (используя два разных цвета), а также график функии $f(x) = 2x - 1$ (используя какой-нибудь третий цвет)"
   ]
  },
  {
   "cell_type": "code",
   "execution_count": 177,
   "metadata": {},
   "outputs": [
    {
     "data": {
      "image/png": "[encoded data removed]",
      "text/plain": [
       "<matplotlib.figure.Figure at 0x7fe3ba105690>"
      ]
     },
     "metadata": {},
     "output_type": "display_data"
    }
   ],
   "source": [
    "x = np.linspace(-1, 1,500)\n",
    "mu, sigma = 0, 0.1\n",
    "y1 = 2*x - np.ones(500) +np.random.normal(mu, sigma, 500)\n",
    "\n",
    "\n",
    "y2 =  np.ones(500) +np.random.normal(mu, sigma, 500)\n",
    "y3 = 2*x -1\n",
    "plt.plot(x, y1, label = \"First\", linewidth=3.0)\n",
    "plt.plot(x, y2, label = \"Second\", linewidth=3.0)\n",
    "plt.plot(x, y3, label = \"Third\", linewidth=5.0)\n",
    "\n",
    "plt.legend()\n",
    "plt.show()"
   ]
  },
  {
   "cell_type": "code",
   "execution_count": null,
   "metadata": {
    "collapsed": true
   },
   "outputs": [],
   "source": []
  }
 ],
 "metadata": {
  "kernelspec": {
   "display_name": "Python 2",
   "language": "python",
   "name": "python2"
  },
  "language_info": {
   "codemirror_mode": {
    "name": "ipython",
    "version": 2
   },
   "file_extension": ".py",
   "mimetype": "text/x-python",
   "name": "python",
   "nbconvert_exporter": "python",
   "pygments_lexer": "ipython2",
   "version": "2.7.14"
  }
 },
 "nbformat": 4,
 "nbformat_minor": 2
}
